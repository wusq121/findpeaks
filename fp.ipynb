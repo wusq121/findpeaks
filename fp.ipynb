{
 "cells": [
  {
   "cell_type": "code",
   "execution_count": 1,
   "metadata": {},
   "outputs": [],
   "source": [
    "import librosa\n",
    "from fp import featurepoint\n",
    "from glob import glob\n",
    "import soundfile as sf\n",
    "\n",
    "from attacks import *\n",
    "from stats import *"
   ]
  },
  {
   "cell_type": "markdown",
   "metadata": {},
   "source": [
    "攻击器生成"
   ]
  },
  {
   "cell_type": "code",
   "execution_count": 2,
   "metadata": {},
   "outputs": [],
   "source": [
    "clp = Closed_loop()\n",
    "noise_20dB = Noise(20)\n",
    "noise_15dB = Noise(15)\n",
    "noise_10dB = Noise(10)\n",
    "amp_13 = Amplitude(1.3)\n",
    "amp_07 = Amplitude(0.7)\n",
    "requan = Requanzation()\n",
    "resam_22k = Resample(22050)\n",
    "resam_11k = Resample(11025)\n",
    "resam_8k = Resample(8000)\n",
    "mp3_128 = Mp3_compression(128)\n",
    "mp3_96 = Mp3_compression(96)\n",
    "lpf = Lowpass(8000)\n",
    "lpf_5k = Lowpass(5000)\n",
    "crop_10_10 = Cropping(10, 10)\n",
    "crop_5_20 = Cropping(5, 20)\n",
    "\n",
    "atks = [clp, noise_20dB, noise_15dB, noise_10dB, amp_13, amp_07, requan, resam_22k, resam_11k, resam_8k, mp3_128, mp3_96, lpf, lpf_5k, crop_10_10, crop_5_20]\n",
    "\n",
    "for atk in atks:\n",
    "    with open(os.path.join('./logfile/', atk.name + '.csv'), 'a+') as f:\n",
    "        f.write('filename,precision,recall\\n')"
   ]
  },
  {
   "cell_type": "markdown",
   "metadata": {},
   "source": [
    "端到端特征点提取"
   ]
  },
  {
   "cell_type": "code",
   "execution_count": 3,
   "metadata": {},
   "outputs": [],
   "source": [
    "def fileidx(f):\n",
    "    sr = librosa.get_samplerate(f)\n",
    "    x, sr = librosa.load(f, sr)\n",
    "    return featurepoint(x, 1.5 * sr)"
   ]
  },
  {
   "cell_type": "code",
   "execution_count": 4,
   "metadata": {},
   "outputs": [],
   "source": [
    "filename = []\n",
    "filename += glob('./data/*.mp3')\n",
    "\n",
    "for fil in filename:\n",
    "    basename, ext = os.path.splitext(fil)\n",
    "    x, sr = librosa.load(fil, sr=librosa.get_samplerate(fil))\n",
    "    sf.write(basename+'.wav', x.T, sr)\n",
    "    os.remove(fil)\n",
    "\n",
    "files = []\n",
    "files += glob('./data/*.wav')"
   ]
  },
  {
   "cell_type": "code",
   "execution_count": 5,
   "metadata": {},
   "outputs": [],
   "source": [
    "for f in files:\n",
    "    original = fileidx(f)\n",
    "    for atk in atks:\n",
    "        file = atk(f)\n",
    "        test = fileidx(file)\n",
    "        if atk.name[:4] != \"_cro\":\n",
    "            precision, recall = precision_recall(test, original)\n",
    "            with open(os.path.join('./logfile/', atk.name + '.csv'), 'a+') as csv:\n",
    "                csv.write(\"{}, {}, {}\\n\".format(f, precision, recall))\n",
    "        else:\n",
    "            sr = librosa.get_samplerate(file)\n",
    "            region = (original< (atk.ss + atk.duration) * sr) & (original > atk.ss * sr)\n",
    "            origin = original[region] - (atk.ss * sr)\n",
    "            precision, recall = precision_recall(test, origin)\n",
    "            with open(os.path.join('./logfile/', atk.name + '.csv'), 'a+') as csv:\n",
    "                csv.write(\"{}, {}, {}\\n\".format(f, precision, recall))\n",
    "        \n",
    "        if atk.name != '_none':\n",
    "            os.remove(file)"
   ]
  },
  {
   "cell_type": "code",
   "execution_count": 6,
   "metadata": {},
   "outputs": [],
   "source": [
    "import pandas as pd\n",
    "\n",
    "with open('./logfile/mean.csv', 'a+') as f:\n",
    "    f.write(\"name,precision,recall\\n\")"
   ]
  },
  {
   "cell_type": "code",
   "execution_count": 7,
   "metadata": {},
   "outputs": [],
   "source": [
    "for atk in atks:\n",
    "    df = pd.read_csv(os.path.join('./logfile', atk.name + '.csv'))\n",
    "    with open('./logfile/mean.csv', 'a+') as f:\n",
    "        f.write('{},{},{}\\n'.format(atk.name, df['precision'].mean(), df['recall'].mean()))"
   ]
  },
  {
   "cell_type": "code",
   "execution_count": null,
   "metadata": {},
   "outputs": [],
   "source": []
  }
 ],
 "metadata": {
  "interpreter": {
   "hash": "75f9e785a93c21ab07cc749eafc89671991f67185f75a7bdd47cef1910e6e74b"
  },
  "kernelspec": {
   "display_name": "Python 3.8.12 64-bit ('pytorch': conda)",
   "language": "python",
   "name": "python3"
  },
  "language_info": {
   "codemirror_mode": {
    "name": "ipython",
    "version": 3
   },
   "file_extension": ".py",
   "mimetype": "text/x-python",
   "name": "python",
   "nbconvert_exporter": "python",
   "pygments_lexer": "ipython3",
   "version": "3.9.9"
  },
  "orig_nbformat": 4
 },
 "nbformat": 4,
 "nbformat_minor": 2
}
